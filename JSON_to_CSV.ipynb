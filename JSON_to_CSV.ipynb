{
 "cells": [
  {
   "cell_type": "markdown",
   "id": "d5a52786-1c8d-43c4-9cf6-b51d7f74508c",
   "metadata": {},
   "source": [
    "# JSON to Tabular Converter"
   ]
  },
  {
   "cell_type": "code",
   "execution_count": 1,
   "id": "05763f7e-7da5-4561-84a0-ec994f718b7d",
   "metadata": {},
   "outputs": [],
   "source": [
    "# importing libraries\n",
    "import pandas as pd\n",
    "import json\n",
    "from pandas import json_normalize"
   ]
  },
  {
   "cell_type": "code",
   "execution_count": 4,
   "id": "bb676fb0-8bf8-4053-8c4c-0610b65e2bd9",
   "metadata": {},
   "outputs": [
    {
     "name": "stdout",
     "output_type": "stream",
     "text": [
      "            Data Before Normalization             \n",
      "[{'id': 1, 'location': {'city': 'Snowmouth', 'zip': '58896'}, 'skills': ['Python', 'C++'], 'full_name': {'first': 'Laurie', 'last': 'Cook'}}, {'id': 2, 'location': {'city': 'Christopherberg', 'zip': '50357'}, 'skills': ['MongoDB', 'Java', 'JavaScript'], 'full_name': {'first': 'Nicholas', 'last': 'Jones'}}, {'id': 3, 'location': {'city': 'Woodview', 'zip': '60317'}, 'skills': ['React', 'Flask', 'SQL', 'Python'], 'full_name': {'first': 'Brianna', 'last': 'Sanchez MD'}}, {'id': 4, 'location': {'city': 'Jonathanville', 'zip': '42587'}, 'skills': ['React', 'SQL', 'Flask', 'Java', 'MongoDB'], 'full_name': {'first': 'Richard', 'last': 'Gill'}}, {'id': 5, 'location': {'city': 'East Dannyshire', 'zip': '58540'}, 'skills': ['Django', 'Java', 'SQL', 'JavaScript', 'Node.js'], 'full_name': {'first': 'Victor', 'last': 'Hamilton'}}, {'id': 6, 'location': {'city': 'Alishaland', 'zip': '07087'}, 'skills': ['JavaScript', 'C++', 'Django'], 'full_name': {'first': 'David', 'last': 'Wilson'}}, {'id': 7, 'location': {'city': 'West Jonathan', 'zip': '04758'}, 'skills': ['MongoDB', 'C++', 'React', 'Node.js'], 'full_name': {'first': 'Dennis', 'last': 'Alexander'}}, {'id': 8, 'location': {'city': 'Pageland', 'zip': '75039'}, 'skills': ['MongoDB', 'React'], 'full_name': {'first': 'John', 'last': 'Garcia'}}, {'id': 9, 'location': {'city': 'South Scottberg', 'zip': '93278'}, 'skills': ['SQL', 'Node.js'], 'full_name': {'first': 'Samuel', 'last': 'Ward'}}, {'id': 10, 'location': {'city': 'Port Brandy', 'zip': '85579'}, 'skills': ['Python', 'React', 'Node.js', 'JavaScript'], 'full_name': {'first': 'Nicholas', 'last': 'Navarro'}}, {'id': 11, 'location': {'city': 'Shawntown', 'zip': '43627'}, 'skills': ['SQL', 'C++', 'Django', 'Python'], 'full_name': {'first': 'Cynthia', 'last': 'Butler'}}, {'id': 12, 'location': {'city': 'New George', 'zip': '78797'}, 'skills': ['JavaScript', 'C++', 'Django', 'Flask', 'Node.js'], 'full_name': {'first': 'Melissa', 'last': 'Butler'}}, {'id': 13, 'location': {'city': 'Courtneyfurt', 'zip': '60793'}, 'skills': ['Flask', 'Node.js', 'Python', 'React'], 'full_name': {'first': 'Rebecca', 'last': 'Soto'}}, {'id': 14, 'location': {'city': 'South Melinda', 'zip': '15596'}, 'skills': ['Java', 'C++', 'Django'], 'full_name': {'first': 'Joanna', 'last': 'Gregory'}}, {'id': 15, 'location': {'city': 'West Jessicaport', 'zip': '85229'}, 'skills': ['SQL', 'MongoDB', 'JavaScript'], 'full_name': {'first': 'Cheryl', 'last': 'Jensen'}}, {'id': 16, 'location': {'city': 'Port Edward', 'zip': '75479'}, 'skills': ['Java', 'C++', 'MongoDB', 'SQL'], 'full_name': {'first': 'Nathan', 'last': 'Moore'}}, {'id': 17, 'location': {'city': 'Cameronmouth', 'zip': '81945'}, 'skills': ['JavaScript', 'Django', 'Node.js', 'SQL', 'C++'], 'full_name': {'first': 'Alec', 'last': 'Miller'}}, {'id': 18, 'location': {'city': 'North Angelica', 'zip': '73757'}, 'skills': ['C++', 'Django', 'JavaScript', 'MongoDB'], 'full_name': {'first': 'Aaron', 'last': 'Thompson'}}, {'id': 19, 'location': {'city': 'Lake Caitlin', 'zip': '36439'}, 'skills': ['Django', 'Node.js', 'SQL', 'React'], 'full_name': {'first': 'Jessica', 'last': 'Allen'}}, {'id': 20, 'location': {'city': 'Caseyville', 'zip': '50705'}, 'skills': ['React', 'C++', 'Flask', 'Django', 'JavaScript'], 'full_name': {'first': 'Miguel', 'last': 'Parker'}}, {'id': 21, 'location': {'city': 'Mariaton', 'zip': '16966'}, 'skills': ['Django', 'React'], 'full_name': {'first': 'Matthew', 'last': 'Brown'}}, {'id': 22, 'location': {'city': 'Anthonybury', 'zip': '80805'}, 'skills': ['SQL', 'React', 'Python', 'MongoDB'], 'full_name': {'first': 'Brittany', 'last': 'Green'}}, {'id': 23, 'location': {'city': 'Lake Sydneyton', 'zip': '60707'}, 'skills': ['SQL', 'MongoDB', 'Java'], 'full_name': {'first': 'Kathryn', 'last': 'Gibson'}}, {'id': 24, 'location': {'city': 'North Stephanie', 'zip': '69772'}, 'skills': ['C++', 'Django', 'Node.js'], 'full_name': {'first': 'Jeffrey', 'last': 'Baker'}}, {'id': 25, 'location': {'city': 'New Todd', 'zip': '25420'}, 'skills': ['Node.js', 'JavaScript', 'Flask', 'SQL'], 'full_name': {'first': 'Kayla', 'last': 'Moses'}}, {'id': 26, 'location': {'city': 'Port Ronald', 'zip': '15451'}, 'skills': ['React', 'JavaScript', 'SQL', 'C++', 'MongoDB'], 'full_name': {'first': 'Christina', 'last': 'Williams'}}, {'id': 27, 'location': {'city': 'West Peggyberg', 'zip': '27333'}, 'skills': ['Python', 'MongoDB', 'SQL', 'Django', 'C++'], 'full_name': {'first': 'Brian', 'last': 'Mcbride'}}, {'id': 28, 'location': {'city': 'Walkerfurt', 'zip': '21342'}, 'skills': ['Node.js', 'Python', 'SQL', 'Java'], 'full_name': {'first': 'Edward', 'last': 'Roberts'}}, {'id': 29, 'location': {'city': 'Port Brendafurt', 'zip': '85737'}, 'skills': ['Node.js', 'C++'], 'full_name': {'first': 'Dana', 'last': 'Joyce'}}, {'id': 30, 'location': {'city': 'Smithport', 'zip': '51643'}, 'skills': ['Python', 'SQL', 'Java'], 'full_name': {'first': 'Rodney', 'last': 'Martin'}}, {'id': 31, 'location': {'city': 'East Jenniferstad', 'zip': '92066'}, 'skills': ['SQL', 'MongoDB', 'Django'], 'full_name': {'first': 'Justin', 'last': 'Johnson'}}, {'id': 32, 'location': {'city': 'Candacechester', 'zip': '33571'}, 'skills': ['C++', 'Python'], 'full_name': {'first': 'Ryan', 'last': 'Marsh'}}, {'id': 33, 'location': {'city': 'Andersonmouth', 'zip': '92699'}, 'skills': ['Django', 'MongoDB', 'React', 'Java'], 'full_name': {'first': 'Whitney', 'last': 'Davis'}}, {'id': 34, 'location': {'city': 'New Jamiestad', 'zip': '83318'}, 'skills': ['Node.js', 'C++', 'Java', 'JavaScript', 'MongoDB'], 'full_name': {'first': 'Melissa', 'last': 'Estrada'}}, {'id': 35, 'location': {'city': 'North Ryantown', 'zip': '00916'}, 'skills': ['React', 'Node.js', 'SQL', 'Java'], 'full_name': {'first': 'Brian', 'last': 'Wilson'}}, {'id': 36, 'location': {'city': 'Lake Adam', 'zip': '96341'}, 'skills': ['Flask', 'Java', 'Node.js', 'SQL'], 'full_name': {'first': 'Meredith', 'last': 'Reid'}}, {'id': 37, 'location': {'city': 'West Rachelside', 'zip': '64761'}, 'skills': ['React', 'Django', 'Python', 'MongoDB', 'JavaScript'], 'full_name': {'first': 'Lorraine', 'last': 'Cooper'}}, {'id': 38, 'location': {'city': 'South Michaelview', 'zip': '91296'}, 'skills': ['Django', 'JavaScript', 'Node.js', 'Java'], 'full_name': {'first': 'Thomas', 'last': 'Mcdonald'}}, {'id': 39, 'location': {'city': 'West Kathryn', 'zip': '46690'}, 'skills': ['C++', 'SQL'], 'full_name': {'first': 'Juan', 'last': 'Miller'}}, {'id': 40, 'location': {'city': 'Hilltown', 'zip': '53299'}, 'skills': ['JavaScript', 'Java'], 'full_name': {'first': 'David', 'last': 'Chapman'}}, {'id': 41, 'location': {'city': 'Leahport', 'zip': '21435'}, 'skills': ['JavaScript', 'Django'], 'full_name': {'first': 'Anne', 'last': 'Green'}}, {'id': 42, 'location': {'city': 'Wallacefort', 'zip': '30491'}, 'skills': ['Java', 'Node.js', 'JavaScript'], 'full_name': {'first': 'Amanda', 'last': 'Bennett'}}, {'id': 43, 'location': {'city': 'North Amyview', 'zip': '79113'}, 'skills': ['Node.js', 'MongoDB', 'Java'], 'full_name': {'first': 'Sheila', 'last': 'White'}}, {'id': 44, 'location': {'city': 'Colliermouth', 'zip': '40528'}, 'skills': ['Node.js', 'Flask', 'JavaScript', 'Python', 'Java'], 'full_name': {'first': 'Crystal', 'last': 'Hudson'}}, {'id': 45, 'location': {'city': 'South Victoria', 'zip': '69063'}, 'skills': ['Django', 'JavaScript', 'SQL', 'Flask'], 'full_name': {'first': 'John', 'last': 'Jacobson'}}, {'id': 46, 'location': {'city': 'Nelsonfurt', 'zip': '42611'}, 'skills': ['Java', 'Python'], 'full_name': {'first': 'Marvin', 'last': 'Lopez'}}, {'id': 47, 'location': {'city': 'New Alexandra', 'zip': '92667'}, 'skills': ['Java', 'Flask', 'SQL', 'MongoDB', 'C++'], 'full_name': {'first': 'Robert', 'last': 'Miller'}}, {'id': 48, 'location': {'city': 'Danielport', 'zip': '54048'}, 'skills': ['Flask', 'Java'], 'full_name': {'first': 'Terrence', 'last': 'Jones Jr.'}}, {'id': 49, 'location': {'city': 'New Rachelborough', 'zip': '68750'}, 'skills': ['Node.js', 'JavaScript'], 'full_name': {'first': 'Jason', 'last': 'Burns'}}, {'id': 50, 'location': {'city': 'New Joshua', 'zip': '63997'}, 'skills': ['React', 'Java', 'C++'], 'full_name': {'first': 'Trevor', 'last': 'Perez'}}]\n"
     ]
    }
   ],
   "source": [
    "# Loading the json file\n",
    "with open(r'.\\sample_json\\nested_50_records_with_fullname.json','r') as f:\n",
    "    data = json.load(f)\n",
    "print('Data Before Normalization'.center(50,' '))\n",
    "print(data)"
   ]
  },
  {
   "cell_type": "code",
   "execution_count": 5,
   "id": "d5471e3e-f711-4356-b273-3b92bc646048",
   "metadata": {},
   "outputs": [],
   "source": [
    "# Convering JSON to Tabular structure\n",
    "df = json_normalize(data)"
   ]
  },
  {
   "cell_type": "code",
   "execution_count": 6,
   "id": "21bc290e-acf1-4e08-9b83-fbb11febf5ef",
   "metadata": {},
   "outputs": [
    {
     "name": "stdout",
     "output_type": "stream",
     "text": [
      "   id First Name   Last Name             City    ZIP  \\\n",
      "0   1     Laurie        Cook        Snowmouth  58896   \n",
      "1   2   Nicholas       Jones  Christopherberg  50357   \n",
      "2   3    Brianna  Sanchez MD         Woodview  60317   \n",
      "3   4    Richard        Gill    Jonathanville  42587   \n",
      "4   5     Victor    Hamilton  East Dannyshire  58540   \n",
      "\n",
      "                                     skills  \n",
      "0                             [Python, C++]  \n",
      "1               [MongoDB, Java, JavaScript]  \n",
      "2               [React, Flask, SQL, Python]  \n",
      "3        [React, SQL, Flask, Java, MongoDB]  \n",
      "4  [Django, Java, SQL, JavaScript, Node.js]  \n"
     ]
    }
   ],
   "source": [
    "# Re-Organizing columns\n",
    "df.rename(columns={'full_name.first':'First Name',\n",
    "                   'full_name.last':'Last Name',\n",
    "                    'location.city':'City',\n",
    "                   'location.zip':'ZIP'},\n",
    "         inplace=True)\n",
    "\n",
    "# Rearrange columns\n",
    "df = df[['id', 'First Name', 'Last Name', 'City', 'ZIP', 'skills']]\n",
    "\n",
    "print(df.head())"
   ]
  },
  {
   "cell_type": "code",
   "execution_count": 8,
   "id": "ce0e36b7-4e18-44c7-a034-9bfcdcd4df0c",
   "metadata": {},
   "outputs": [],
   "source": [
    "# Exporting to CSV\n",
    "df.to_csv(r'.\\Exported-CSV\\Flattened_50_records_including_name.csv',index=False)"
   ]
  }
 ],
 "metadata": {
  "kernelspec": {
   "display_name": "Python 3 (ipykernel)",
   "language": "python",
   "name": "python3"
  },
  "language_info": {
   "codemirror_mode": {
    "name": "ipython",
    "version": 3
   },
   "file_extension": ".py",
   "mimetype": "text/x-python",
   "name": "python",
   "nbconvert_exporter": "python",
   "pygments_lexer": "ipython3",
   "version": "3.11.7"
  }
 },
 "nbformat": 4,
 "nbformat_minor": 5
}
